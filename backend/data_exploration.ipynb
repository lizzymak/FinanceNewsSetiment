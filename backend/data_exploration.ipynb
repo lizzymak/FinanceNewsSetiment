{
 "cells": [
  {
   "cell_type": "code",
   "execution_count": 1,
   "id": "719ac59b-b6a6-4d4c-a417-881114bebbd4",
   "metadata": {},
   "outputs": [
    {
     "name": "stdout",
     "output_type": "stream",
     "text": [
      "Requirement already satisfied: pandas in c:\\users\\lizzy\\documents\\github\\stockpredictor\\venv\\lib\\site-packages (2.3.2)\n",
      "Requirement already satisfied: numpy in c:\\users\\lizzy\\documents\\github\\stockpredictor\\venv\\lib\\site-packages (2.3.2)\n",
      "Requirement already satisfied: matplotlib in c:\\users\\lizzy\\documents\\github\\stockpredictor\\venv\\lib\\site-packages (3.10.5)\n",
      "Requirement already satisfied: seaborn in c:\\users\\lizzy\\documents\\github\\stockpredictor\\venv\\lib\\site-packages (0.13.2)\n",
      "Requirement already satisfied: yfinance in c:\\users\\lizzy\\documents\\github\\stockpredictor\\venv\\lib\\site-packages (0.2.65)\n",
      "Requirement already satisfied: python-dateutil>=2.8.2 in c:\\users\\lizzy\\documents\\github\\stockpredictor\\venv\\lib\\site-packages (from pandas) (2.9.0.post0)\n",
      "Requirement already satisfied: pytz>=2020.1 in c:\\users\\lizzy\\documents\\github\\stockpredictor\\venv\\lib\\site-packages (from pandas) (2025.2)\n",
      "Requirement already satisfied: tzdata>=2022.7 in c:\\users\\lizzy\\documents\\github\\stockpredictor\\venv\\lib\\site-packages (from pandas) (2025.2)\n",
      "Requirement already satisfied: contourpy>=1.0.1 in c:\\users\\lizzy\\documents\\github\\stockpredictor\\venv\\lib\\site-packages (from matplotlib) (1.3.3)\n",
      "Requirement already satisfied: cycler>=0.10 in c:\\users\\lizzy\\documents\\github\\stockpredictor\\venv\\lib\\site-packages (from matplotlib) (0.12.1)\n",
      "Requirement already satisfied: fonttools>=4.22.0 in c:\\users\\lizzy\\documents\\github\\stockpredictor\\venv\\lib\\site-packages (from matplotlib) (4.59.2)\n",
      "Requirement already satisfied: kiwisolver>=1.3.1 in c:\\users\\lizzy\\documents\\github\\stockpredictor\\venv\\lib\\site-packages (from matplotlib) (1.4.9)\n",
      "Requirement already satisfied: packaging>=20.0 in c:\\users\\lizzy\\documents\\github\\stockpredictor\\venv\\lib\\site-packages (from matplotlib) (25.0)\n",
      "Requirement already satisfied: pillow>=8 in c:\\users\\lizzy\\documents\\github\\stockpredictor\\venv\\lib\\site-packages (from matplotlib) (11.3.0)\n",
      "Requirement already satisfied: pyparsing>=2.3.1 in c:\\users\\lizzy\\documents\\github\\stockpredictor\\venv\\lib\\site-packages (from matplotlib) (3.2.3)\n",
      "Requirement already satisfied: requests>=2.31 in c:\\users\\lizzy\\documents\\github\\stockpredictor\\venv\\lib\\site-packages (from yfinance) (2.32.5)\n",
      "Requirement already satisfied: multitasking>=0.0.7 in c:\\users\\lizzy\\documents\\github\\stockpredictor\\venv\\lib\\site-packages (from yfinance) (0.0.12)\n",
      "Requirement already satisfied: platformdirs>=2.0.0 in c:\\users\\lizzy\\documents\\github\\stockpredictor\\venv\\lib\\site-packages (from yfinance) (4.4.0)\n",
      "Requirement already satisfied: frozendict>=2.3.4 in c:\\users\\lizzy\\documents\\github\\stockpredictor\\venv\\lib\\site-packages (from yfinance) (2.4.6)\n",
      "Requirement already satisfied: peewee>=3.16.2 in c:\\users\\lizzy\\documents\\github\\stockpredictor\\venv\\lib\\site-packages (from yfinance) (3.18.2)\n",
      "Requirement already satisfied: beautifulsoup4>=4.11.1 in c:\\users\\lizzy\\documents\\github\\stockpredictor\\venv\\lib\\site-packages (from yfinance) (4.13.5)\n",
      "Requirement already satisfied: curl_cffi>=0.7 in c:\\users\\lizzy\\documents\\github\\stockpredictor\\venv\\lib\\site-packages (from yfinance) (0.13.0)\n",
      "Requirement already satisfied: protobuf>=3.19.0 in c:\\users\\lizzy\\documents\\github\\stockpredictor\\venv\\lib\\site-packages (from yfinance) (6.32.0)\n",
      "Requirement already satisfied: websockets>=13.0 in c:\\users\\lizzy\\documents\\github\\stockpredictor\\venv\\lib\\site-packages (from yfinance) (15.0.1)\n",
      "Requirement already satisfied: soupsieve>1.2 in c:\\users\\lizzy\\documents\\github\\stockpredictor\\venv\\lib\\site-packages (from beautifulsoup4>=4.11.1->yfinance) (2.8)\n",
      "Requirement already satisfied: typing-extensions>=4.0.0 in c:\\users\\lizzy\\documents\\github\\stockpredictor\\venv\\lib\\site-packages (from beautifulsoup4>=4.11.1->yfinance) (4.15.0)\n",
      "Requirement already satisfied: cffi>=1.12.0 in c:\\users\\lizzy\\documents\\github\\stockpredictor\\venv\\lib\\site-packages (from curl_cffi>=0.7->yfinance) (1.17.1)\n",
      "Requirement already satisfied: certifi>=2024.2.2 in c:\\users\\lizzy\\documents\\github\\stockpredictor\\venv\\lib\\site-packages (from curl_cffi>=0.7->yfinance) (2025.8.3)\n",
      "Requirement already satisfied: six>=1.5 in c:\\users\\lizzy\\documents\\github\\stockpredictor\\venv\\lib\\site-packages (from python-dateutil>=2.8.2->pandas) (1.17.0)\n",
      "Requirement already satisfied: charset_normalizer<4,>=2 in c:\\users\\lizzy\\documents\\github\\stockpredictor\\venv\\lib\\site-packages (from requests>=2.31->yfinance) (3.4.3)\n",
      "Requirement already satisfied: idna<4,>=2.5 in c:\\users\\lizzy\\documents\\github\\stockpredictor\\venv\\lib\\site-packages (from requests>=2.31->yfinance) (3.10)\n",
      "Requirement already satisfied: urllib3<3,>=1.21.1 in c:\\users\\lizzy\\documents\\github\\stockpredictor\\venv\\lib\\site-packages (from requests>=2.31->yfinance) (2.5.0)\n",
      "Requirement already satisfied: pycparser in c:\\users\\lizzy\\documents\\github\\stockpredictor\\venv\\lib\\site-packages (from cffi>=1.12.0->curl_cffi>=0.7->yfinance) (2.22)\n"
     ]
    },
    {
     "name": "stderr",
     "output_type": "stream",
     "text": [
      "\n",
      "[notice] A new release of pip is available: 24.2 -> 25.2\n",
      "[notice] To update, run: python.exe -m pip install --upgrade pip\n"
     ]
    }
   ],
   "source": [
    "!pip install pandas numpy matplotlib seaborn yfinance"
   ]
  },
  {
   "cell_type": "code",
   "execution_count": 2,
   "id": "6c80e219-b82c-497b-9a27-897ed2558d96",
   "metadata": {},
   "outputs": [],
   "source": [
    "import yfinance as yf\n",
    "import pandas as pd\n",
    "import matplotlib.pyplot as plt"
   ]
  },
  {
   "cell_type": "code",
   "execution_count": 3,
   "id": "0fd613cf",
   "metadata": {},
   "outputs": [
    {
     "name": "stderr",
     "output_type": "stream",
     "text": [
      "C:\\Windows\\Temp\\ipykernel_27280\\94910598.py:1: FutureWarning: YF.download() has changed argument auto_adjust default to True\n",
      "  data = yf.download(\"NVDA\", start=\"2024-08-27\", end=\"2025-09-07\")\n",
      "[*********************100%***********************]  1 of 1 completed\n"
     ]
    },
    {
     "data": {
      "text/html": [
       "<div>\n",
       "<style scoped>\n",
       "    .dataframe tbody tr th:only-of-type {\n",
       "        vertical-align: middle;\n",
       "    }\n",
       "\n",
       "    .dataframe tbody tr th {\n",
       "        vertical-align: top;\n",
       "    }\n",
       "\n",
       "    .dataframe thead tr th {\n",
       "        text-align: left;\n",
       "    }\n",
       "\n",
       "    .dataframe thead tr:last-of-type th {\n",
       "        text-align: right;\n",
       "    }\n",
       "</style>\n",
       "<table border=\"1\" class=\"dataframe\">\n",
       "  <thead>\n",
       "    <tr>\n",
       "      <th>Price</th>\n",
       "      <th>Close</th>\n",
       "      <th>High</th>\n",
       "      <th>Low</th>\n",
       "      <th>Open</th>\n",
       "      <th>Volume</th>\n",
       "    </tr>\n",
       "    <tr>\n",
       "      <th>Ticker</th>\n",
       "      <th>NVDA</th>\n",
       "      <th>NVDA</th>\n",
       "      <th>NVDA</th>\n",
       "      <th>NVDA</th>\n",
       "      <th>NVDA</th>\n",
       "    </tr>\n",
       "    <tr>\n",
       "      <th>Date</th>\n",
       "      <th></th>\n",
       "      <th></th>\n",
       "      <th></th>\n",
       "      <th></th>\n",
       "      <th></th>\n",
       "    </tr>\n",
       "  </thead>\n",
       "  <tbody>\n",
       "    <tr>\n",
       "      <th>2024-08-27</th>\n",
       "      <td>128.259491</td>\n",
       "      <td>129.159201</td>\n",
       "      <td>123.840881</td>\n",
       "      <td>125.010517</td>\n",
       "      <td>303134600</td>\n",
       "    </tr>\n",
       "    <tr>\n",
       "      <th>2024-08-28</th>\n",
       "      <td>125.570335</td>\n",
       "      <td>128.289478</td>\n",
       "      <td>122.601272</td>\n",
       "      <td>128.079537</td>\n",
       "      <td>448101100</td>\n",
       "    </tr>\n",
       "    <tr>\n",
       "      <th>2024-08-29</th>\n",
       "      <td>117.552864</td>\n",
       "      <td>124.390708</td>\n",
       "      <td>116.673145</td>\n",
       "      <td>121.321678</td>\n",
       "      <td>453023300</td>\n",
       "    </tr>\n",
       "    <tr>\n",
       "      <th>2024-08-30</th>\n",
       "      <td>119.332306</td>\n",
       "      <td>121.711552</td>\n",
       "      <td>117.182983</td>\n",
       "      <td>119.492251</td>\n",
       "      <td>333751600</td>\n",
       "    </tr>\n",
       "    <tr>\n",
       "      <th>2024-09-03</th>\n",
       "      <td>107.965889</td>\n",
       "      <td>116.173295</td>\n",
       "      <td>107.256114</td>\n",
       "      <td>115.973361</td>\n",
       "      <td>477155100</td>\n",
       "    </tr>\n",
       "  </tbody>\n",
       "</table>\n",
       "</div>"
      ],
      "text/plain": [
       "Price            Close        High         Low        Open     Volume\n",
       "Ticker            NVDA        NVDA        NVDA        NVDA       NVDA\n",
       "Date                                                                 \n",
       "2024-08-27  128.259491  129.159201  123.840881  125.010517  303134600\n",
       "2024-08-28  125.570335  128.289478  122.601272  128.079537  448101100\n",
       "2024-08-29  117.552864  124.390708  116.673145  121.321678  453023300\n",
       "2024-08-30  119.332306  121.711552  117.182983  119.492251  333751600\n",
       "2024-09-03  107.965889  116.173295  107.256114  115.973361  477155100"
      ]
     },
     "execution_count": 3,
     "metadata": {},
     "output_type": "execute_result"
    }
   ],
   "source": [
    "data = yf.download(\"NVDA\", start=\"2024-08-27\", end=\"2025-09-07\")\n",
    "data.head()"
   ]
  },
  {
   "cell_type": "code",
   "execution_count": 4,
   "id": "c58960e2",
   "metadata": {},
   "outputs": [
    {
     "data": {
      "image/png": "[encoded data removed]",
      "text/plain": [
       "<Figure size 1000x600 with 1 Axes>"
      ]
     },
     "metadata": {},
     "output_type": "display_data"
    }
   ],
   "source": [
    "plt.figure(figsize=(10, 6))\n",
    "plt.plot(data[\"Close\"], label=\"NVIDIA Closing Price\")\n",
    "plt.title(\"NVIDIA Stock Price (1 year)\")\n",
    "plt.xlabel(\"Date\")\n",
    "plt.ylabel(\"Price (USD)\")\n",
    "plt.legend()\n",
    "plt.show()"
   ]
  },
  {
   "cell_type": "code",
   "execution_count": 5,
   "id": "0498a67f",
   "metadata": {},
   "outputs": [
    {
     "name": "stdout",
     "output_type": "stream",
     "text": [
      "Scaled head:\n",
      "             Close_Scaled\n",
      "Date                    \n",
      "2024-08-27      0.616235\n",
      "2024-08-28      0.567432\n",
      "2024-08-29      0.421931\n",
      "2024-08-30      0.454224\n",
      "2024-09-03      0.247946 \n",
      "\n",
      "Scaled tail:\n",
      "             Close_Scaled\n",
      "Date                    \n",
      "2025-08-29      1.449601\n",
      "2025-09-02      1.387898\n",
      "2025-09-03      1.384994\n",
      "2025-09-04      1.403869\n",
      "2025-09-05      1.319662 \n",
      "\n",
      "Scaled min/max: 0.0 1.6125708630280526\n"
     ]
    },
    {
     "name": "stderr",
     "output_type": "stream",
     "text": [
      "C:\\Windows\\Temp\\ipykernel_27280\\1823170304.py:15: FutureWarning: Calling float on a single element Series is deprecated and will raise a TypeError in the future. Use float(ser.iloc[0]) instead\n",
      "  print(\"Scaled min/max:\", float(close_scaled.min()), float(close_scaled.max()))\n"
     ]
    }
   ],
   "source": [
    "from sklearn.preprocessing import MinMaxScaler\n",
    "SEQ_LENGTH = 60 #days modle will look at\n",
    "close = data[['Close']].dropna().astype(float) #take close column, drop Nans and type convert\n",
    "split_idx = int(len(close) * 0.8) #split index so we train first 80%\n",
    "scaler = MinMaxScaler(feature_range=(0,1)) #range will be 0-1\n",
    "scaler.fit(close.iloc[:split_idx]) #fit scalar on train (no looking at future)\n",
    "close_scaled = pd.DataFrame(\n",
    "    scaler.transform(close),\n",
    "    index = close.index,\n",
    "    columns=['Close_Scaled']\n",
    ")\n",
    "\n",
    "print(\"Scaled head:\\n\", close_scaled.head(), \"\\n\")\n",
    "print(\"Scaled tail:\\n\", close_scaled.tail(), \"\\n\")\n",
    "print(\"Scaled min/max:\", float(close_scaled.min()), float(close_scaled.max()))\n"
   ]
  },
  {
   "cell_type": "code",
   "execution_count": 6,
   "id": "49a76459",
   "metadata": {},
   "outputs": [],
   "source": [
    "import numpy as np\n",
    "def create_sequences(values_2d, seq_length=60):\n",
    "    #converts 2d array of values into sequences for time series preditction\n",
    "    X, y = [], [] #inputs, target\n",
    "    for i in range(len(values_2d) - seq_length):\n",
    "        X.append(values_2d[i:i+seq_length])\n",
    "        y.append(values_2d[i+seq_length]) #target is day after sequence\n",
    "    return np.array(X), np.array(y) #converts python list to numpy array\n",
    "values = close_scaled.values\n",
    "X_all, y_all = create_sequences(values, SEQ_LENGTH)\n",
    "#based off of the last 60 days what would day 61 be?"
   ]
  },
  {
   "cell_type": "code",
   "execution_count": 7,
   "id": "e7a3ebe2",
   "metadata": {},
   "outputs": [],
   "source": [
    "train_samples = split_idx - SEQ_LENGTH #end of training data - min days of history\n",
    "X_train = X_all[:train_samples] #first portion is training data\n",
    "y_train = y_all[:train_samples] \n",
    "X_test = X_all[train_samples:] #remaining is test data, used for checking\n",
    "y_test = y_all[train_samples:]\n"
   ]
  },
  {
   "cell_type": "code",
   "execution_count": 8,
   "id": "41b7f049",
   "metadata": {},
   "outputs": [
    {
     "data": {
      "text/plain": [
       "device(type='cpu')"
      ]
     },
     "execution_count": 8,
     "metadata": {},
     "output_type": "execute_result"
    }
   ],
   "source": [
    "import torch\n",
    "X_train_t = torch.tensor(X_train, dtype=torch.float32)\n",
    "y_train_t = torch.tensor(y_train, dtype=torch.float32)\n",
    "#convert numpy arrays to torch tensors , 32bit floats\n",
    "X_test_t  = torch.tensor(X_test,  dtype=torch.float32)\n",
    "y_test_t  = torch.tensor(y_test,  dtype=torch.float32)\n",
    "device = torch.device(\"cuda\" if torch.cuda.is_available() else \"cpu\")\n",
    "device"
   ]
  },
  {
   "cell_type": "code",
   "execution_count": 9,
   "id": "63ef0fef",
   "metadata": {},
   "outputs": [
    {
     "name": "stdout",
     "output_type": "stream",
     "text": [
      "StockLSTM(\n",
      "  (lstm): LSTM(1, 50, num_layers=2, batch_first=True)\n",
      "  (fc): Linear(in_features=50, out_features=1, bias=True)\n",
      ")\n"
     ]
    }
   ],
   "source": [
    "import torch.nn as nn\n",
    "class StockLSTM(nn.Module): #nn is base class\n",
    "    def __init__(self, input_size = 1, hidden_size = 50, num_layers = 2, output_size = 1):\n",
    "        #closing price, how many neurons that learn patterns, stack 2 LSTM for complex patterns\n",
    "        super(StockLSTM, self).__init__()\n",
    "        self.hidden_size = hidden_size\n",
    "        self.num_layers = num_layers\n",
    "        self.lstm = nn.LSTM(input_size, hidden_size, num_layers, batch_first=True)\n",
    "        #handles sequential data\n",
    "        self.fc = nn.Linear(hidden_size, output_size)\n",
    "        #converts LSTM hidden state to final prediction\n",
    "    def forward(self, x): #used to tell putorch how to computer predictions after passing in data\n",
    "        h0 = torch.zeros(self.num_layers, x.size(0), self.hidden_size).to(x.device)\n",
    "        # hidden state lstm short term memory\n",
    "        c0 = torch.zeros(self.num_layers, x.size(0), self.hidden_size).to(x.device)\n",
    "        # cell state for lstm long term memory\n",
    "        #one state per layer, batch size(how many sequences we can process at once), number of neurons in each lstm layer\n",
    "        out, _ = self.lstm(x, (h0, c0))\n",
    "        #takes input x of shape [batch size, seq length, features]\n",
    "        #produces out of shape [batch size, seq length, hidden length]\n",
    "        # translation = for each day in the 60-day window the lstm produxes a 50 dimentional pattern vector\n",
    "        out = self.fc(out[:, -1,:]) #get output from last day in sequence\n",
    "        return out\n",
    "model = StockLSTM(input_size=1, hidden_size=50, num_layers=2, output_size=1).to(device)\n",
    "print(model)\n",
    "\n"
   ]
  }
 ],
 "metadata": {
  "kernelspec": {
   "display_name": "venv",
   "language": "python",
   "name": "python3"
  },
  "language_info": {
   "codemirror_mode": {
    "name": "ipython",
    "version": 3
   },
   "file_extension": ".py",
   "mimetype": "text/x-python",
   "name": "python",
   "nbconvert_exporter": "python",
   "pygments_lexer": "ipython3",
   "version": "3.12.6"
  }
 },
 "nbformat": 4,
 "nbformat_minor": 5
}
